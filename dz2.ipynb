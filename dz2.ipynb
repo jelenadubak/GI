{
 "cells": [
  {
   "cell_type": "markdown",
   "metadata": {
    "id": "jW4TNeZ6yM58"
   },
   "source": [
    "Exercise 2\n"
   ]
  },
  {
   "cell_type": "code",
   "execution_count": 12,
   "metadata": {
    "colab": {
     "base_uri": "https://localhost:8080/"
    },
    "id": "zbf1k2VXyM6A",
    "outputId": "7ed85972-c79d-4552-bf3d-6d85d07b73c2"
   },
   "outputs": [
    {
     "name": "stdout",
     "output_type": "stream",
     "text": [
      "Requirement already satisfied: pysam in /usr/local/lib/python3.7/dist-packages (0.19.0)\n"
     ]
    }
   ],
   "source": [
    "\n",
    "!pip install pysam\n"
   ]
  },
  {
   "cell_type": "code",
   "execution_count": null,
   "metadata": {
    "colab": {
     "base_uri": "https://localhost:8080/"
    },
    "id": "OBkQV6nCyM6D",
    "outputId": "439fbc3c-b9e7-424d-a304-0371f39254ac"
   },
   "outputs": [
    {
     "name": "stdout",
     "output_type": "stream",
     "text": [
      "Number of unmapped reads in the file: 17765.\n",
      "Total number of reads: 2921629.\n",
      "Number of reads with mapping quality 0: 126628.\n",
      "Average mapping quality for all reads: 55.91379158681681.\n",
      "Average mapping quality if reads with mapping quality=0 are filtered out: 58.446975510921106.\n"
     ]
    }
   ],
   "source": [
    "from pysam import AlignmentFile\n",
    "path_to_file = \"merged-tumor.bam\"\n",
    "cnt_unmapped = 0\n",
    "cnt_total_reads = 0\n",
    "cnt_mapping_quality_zero = 0\n",
    "sum_mapping_quality = 0\n",
    "\n",
    "for read in AlignmentFile(path_to_file):\n",
    "    cnt_total_reads = cnt_total_reads + 1\n",
    "    sum_mapping_quality = sum_mapping_quality + read.mapping_quality\n",
    "    if read.mapping_quality == 0:\n",
    "        cnt_mapping_quality_zero = cnt_mapping_quality_zero + 1\n",
    "    if read.flag & 4:\n",
    "        cnt_unmapped = cnt_unmapped + 1\n",
    "avg_mapping_quality = sum_mapping_quality / cnt_total_reads\n",
    "cnt_maping_quality_without_zeros = cnt_total_reads - cnt_mapping_quality_zero\n",
    "avg_mapping_quality_without_zeros = sum_mapping_quality / cnt_maping_quality_without_zeros\n",
    "\n",
    "print(f\"Number of unmapped reads in the file: {cnt_unmapped}.\")\n",
    "print(f\"Total number of reads: {cnt_total_reads}.\")\n",
    "print(f\"Number of reads with mapping quality 0: {cnt_mapping_quality_zero}.\")\n",
    "print(f\"Average mapping quality for all the reads: {avg_mapping_quality}.\")\n",
    "print(f\"Average mapping quality if reads with mapping quality=0 are filtered out: {avg_mapping_quality_without_zeros}.\")"
   ]
  }
 ],
 "metadata": {
  "colab": {
   "collapsed_sections": [],
   "name": "dz2.ipynb",
   "provenance": []
  },
  "kernelspec": {
   "display_name": "Python 3",
   "language": "python",
   "name": "python3"
  },
  "language_info": {
   "codemirror_mode": {
    "name": "ipython",
    "version": 3
   },
   "file_extension": ".py",
   "mimetype": "text/x-python",
   "name": "python",
   "nbconvert_exporter": "python",
   "pygments_lexer": "ipython3",
   "version": "3.8.5"
  }
 },
 "nbformat": 4,
 "nbformat_minor": 0
}
